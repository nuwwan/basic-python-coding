{
 "cells": [
  {
   "cell_type": "markdown",
   "id": "33f3ed0d-30e9-4984-8896-c42e1fb40827",
   "metadata": {},
   "source": [
    "<p>Pytest will be used for testing</p>"
   ]
  },
  {
   "cell_type": "code",
   "execution_count": 1,
   "id": "1cfb6dcf-897f-4525-8a47-369b642bd3fc",
   "metadata": {},
   "outputs": [
    {
     "name": "stdout",
     "output_type": "stream",
     "text": [
      "Collecting pytest\n",
      "  Downloading pytest-8.2.2-py3-none-any.whl.metadata (7.6 kB)\n",
      "Collecting iniconfig (from pytest)\n",
      "  Using cached iniconfig-2.0.0-py3-none-any.whl.metadata (2.6 kB)\n",
      "Requirement already satisfied: packaging in /Users/nuwanrathnayaka/Desktop/Projects/Notebooks/Test Notebook/notebook-env/lib/python3.11/site-packages (from pytest) (23.2)\n",
      "Collecting pluggy<2.0,>=1.5 (from pytest)\n",
      "  Downloading pluggy-1.5.0-py3-none-any.whl.metadata (4.8 kB)\n",
      "Downloading pytest-8.2.2-py3-none-any.whl (339 kB)\n",
      "\u001b[2K   \u001b[90m━━━━━━━━━━━━━━━━━━━━━━━━━━━━━━━━━━━━━━━━\u001b[0m \u001b[32m339.9/339.9 kB\u001b[0m \u001b[31m6.0 MB/s\u001b[0m eta \u001b[36m0:00:00\u001b[0ma \u001b[36m0:00:01\u001b[0m\n",
      "\u001b[?25hDownloading pluggy-1.5.0-py3-none-any.whl (20 kB)\n",
      "Using cached iniconfig-2.0.0-py3-none-any.whl (5.9 kB)\n",
      "Installing collected packages: pluggy, iniconfig, pytest\n",
      "Successfully installed iniconfig-2.0.0 pluggy-1.5.0 pytest-8.2.2\n",
      "\n",
      "\u001b[1m[\u001b[0m\u001b[34;49mnotice\u001b[0m\u001b[1;39;49m]\u001b[0m\u001b[39;49m A new release of pip is available: \u001b[0m\u001b[31;49m24.0\u001b[0m\u001b[39;49m -> \u001b[0m\u001b[32;49m24.1.1\u001b[0m\n",
      "\u001b[1m[\u001b[0m\u001b[34;49mnotice\u001b[0m\u001b[1;39;49m]\u001b[0m\u001b[39;49m To update, run: \u001b[0m\u001b[32;49mpip install --upgrade pip\u001b[0m\n"
     ]
    }
   ],
   "source": [
    "# Install dependencies\n",
    "!pip install pytest"
   ]
  },
  {
   "cell_type": "code",
   "execution_count": 2,
   "id": "5f0f403e-0f73-4159-8b18-185596868329",
   "metadata": {},
   "outputs": [],
   "source": [
    "# write a sample function\n",
    "def square(num):\n",
    "    return num*num"
   ]
  },
  {
   "cell_type": "code",
   "execution_count": 3,
   "id": "8deab6a4-3d4c-423e-8680-f8fff156bd8c",
   "metadata": {},
   "outputs": [],
   "source": [
    "# write test cases"
   ]
  },
  {
   "cell_type": "code",
   "execution_count": 4,
   "id": "70594a68-ac3a-4b08-bcfe-9451f390317e",
   "metadata": {},
   "outputs": [],
   "source": [
    "def test_square():\n",
    "    sample_input=3\n",
    "    expected_output=9\n",
    "    calculated_output=square(sample_input)\n",
    "    assert expected_output== calculated_output"
   ]
  },
  {
   "cell_type": "code",
   "execution_count": null,
   "id": "9d5c7220-de0a-4046-9896-5169eb3f6bb6",
   "metadata": {},
   "outputs": [],
   "source": [
    "# run the tests\n",
    "py -m pytest"
   ]
  },
  {
   "cell_type": "code",
   "execution_count": 5,
   "id": "05a2b0ae-07c7-4798-94c9-9906e2ac66ec",
   "metadata": {},
   "outputs": [
    {
     "data": {
      "text/plain": [
       "3"
      ]
     },
     "execution_count": 5,
     "metadata": {},
     "output_type": "execute_result"
    }
   ],
   "source": [
    "7//2"
   ]
  },
  {
   "cell_type": "code",
   "execution_count": null,
   "id": "c4f370e0-c8a9-400e-8642-e02fb3dd1e48",
   "metadata": {},
   "outputs": [],
   "source": []
  }
 ],
 "metadata": {
  "kernelspec": {
   "display_name": "Python 3 (ipykernel)",
   "language": "python",
   "name": "python3"
  },
  "language_info": {
   "codemirror_mode": {
    "name": "ipython",
    "version": 3
   },
   "file_extension": ".py",
   "mimetype": "text/x-python",
   "name": "python",
   "nbconvert_exporter": "python",
   "pygments_lexer": "ipython3",
   "version": "3.11.8"
  }
 },
 "nbformat": 4,
 "nbformat_minor": 5
}
