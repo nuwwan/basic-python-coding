{
 "cells": [
  {
   "cell_type": "markdown",
   "id": "874b573b-e741-43ab-b80a-5d06697887bb",
   "metadata": {},
   "source": [
    "private, protected keyword are not supported in python for making variables private like other programming languages like java. so this is obtained by \"mangling\"(__var_name). Variables declared 2 underscores prefixed can not be accessed from outside the class."
   ]
  },
  {
   "cell_type": "code",
   "execution_count": 4,
   "id": "9a41d769-f434-4925-aded-4d5aef95d53b",
   "metadata": {},
   "outputs": [],
   "source": [
    "class Student:\n",
    "    def __init__(self,name,age):\n",
    "        self.name=name\n",
    "        self.__age=age\n",
    "    def getName(self):\n",
    "        return self.name"
   ]
  },
  {
   "cell_type": "code",
   "execution_count": 6,
   "id": "56845775-e58b-411a-b565-79004c70e73c",
   "metadata": {},
   "outputs": [],
   "source": [
    "s=Student(name=\"nuwan\",age=20)"
   ]
  },
  {
   "cell_type": "code",
   "execution_count": 7,
   "id": "e06055ff-1dca-4bb8-aa16-485b2d307920",
   "metadata": {},
   "outputs": [
    {
     "data": {
      "text/plain": [
       "'nuwan'"
      ]
     },
     "execution_count": 7,
     "metadata": {},
     "output_type": "execute_result"
    }
   ],
   "source": [
    "s.name"
   ]
  },
  {
   "cell_type": "code",
   "execution_count": 8,
   "id": "887978de-623b-4d63-b053-eeba7204fd41",
   "metadata": {},
   "outputs": [
    {
     "ename": "AttributeError",
     "evalue": "'Student' object has no attribute '__age'",
     "output_type": "error",
     "traceback": [
      "\u001b[0;31m---------------------------------------------------------------------------\u001b[0m",
      "\u001b[0;31mAttributeError\u001b[0m                            Traceback (most recent call last)",
      "Cell \u001b[0;32mIn[8], line 1\u001b[0m\n\u001b[0;32m----> 1\u001b[0m \u001b[43ms\u001b[49m\u001b[38;5;241;43m.\u001b[39;49m\u001b[43m__age\u001b[49m\n",
      "\u001b[0;31mAttributeError\u001b[0m: 'Student' object has no attribute '__age'"
     ]
    }
   ],
   "source": [
    "s.__age"
   ]
  },
  {
   "cell_type": "markdown",
   "id": "69d285a2-bfc5-45a9-b4a7-6727aed34f86",
   "metadata": {},
   "source": [
    "<h1>Encapsulation</h1>"
   ]
  },
  {
   "cell_type": "code",
   "execution_count": 16,
   "id": "7ad261de-9dfe-42ba-8e3d-084fa942574d",
   "metadata": {},
   "outputs": [],
   "source": [
    "class Person:\n",
    "    def __init__(self,name,age):\n",
    "        self.__name=name\n",
    "        self.__age=age\n",
    "\n",
    "    @property\n",
    "    def Name(self):\n",
    "        return self.__name\n",
    "    @Name.setter\n",
    "    def Name(self,name):\n",
    "        self.__name=name\n",
    "    @property\n",
    "    def Age(self):\n",
    "        return self.__age\n",
    "    @Age.setter\n",
    "    def Age(self,age):\n",
    "        if(self.name=='nuwan'):\n",
    "            self.__age=age\n",
    "        else:\n",
    "            self.__age=-1"
   ]
  },
  {
   "cell_type": "code",
   "execution_count": 19,
   "id": "d7a47513-5bee-48dc-958f-150f1b1777ce",
   "metadata": {},
   "outputs": [
    {
     "data": {
      "text/plain": [
       "'kasun'"
      ]
     },
     "execution_count": 19,
     "metadata": {},
     "output_type": "execute_result"
    }
   ],
   "source": [
    "p=Person(\"nuwan\",30)\n",
    "p.Name\n",
    "p.Name=\"kasun\"\n",
    "p.Name"
   ]
  },
  {
   "cell_type": "code",
   "execution_count": null,
   "id": "f0bf24b4-7b84-4496-a47d-170abf6edf91",
   "metadata": {},
   "outputs": [],
   "source": []
  }
 ],
 "metadata": {
  "kernelspec": {
   "display_name": "Python 3 (ipykernel)",
   "language": "python",
   "name": "python3"
  },
  "language_info": {
   "codemirror_mode": {
    "name": "ipython",
    "version": 3
   },
   "file_extension": ".py",
   "mimetype": "text/x-python",
   "name": "python",
   "nbconvert_exporter": "python",
   "pygments_lexer": "ipython3",
   "version": "3.11.8"
  }
 },
 "nbformat": 4,
 "nbformat_minor": 5
}
