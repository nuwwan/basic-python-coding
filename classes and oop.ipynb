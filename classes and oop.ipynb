{
 "cells": [
  {
   "cell_type": "markdown",
   "id": "b9d7c3b1-e5f6-4129-9655-f04ee24d04ee",
   "metadata": {},
   "source": [
    "<h2>Classes and Creating objects</h2>"
   ]
  },
  {
   "cell_type": "code",
   "execution_count": 1,
   "id": "156a23e6-fbdc-47cb-8e2a-7b928e1971bc",
   "metadata": {},
   "outputs": [],
   "source": [
    "class User():\n",
    "    def __init__(self,name,age):\n",
    "        self.name=name\n",
    "        self.age=age\n",
    "    def get_name(self):\n",
    "        return self.name\n",
    "\n",
    "    def set_name(self,name):\n",
    "        self.name=name\n",
    "        return true"
   ]
  },
  {
   "cell_type": "code",
   "execution_count": 2,
   "id": "1b0e0ab2-ab08-46fc-bfe6-e034420ad187",
   "metadata": {},
   "outputs": [
    {
     "data": {
      "text/plain": [
       "'nuwan'"
      ]
     },
     "execution_count": 2,
     "metadata": {},
     "output_type": "execute_result"
    }
   ],
   "source": [
    "user =User('nuwan',29)\n",
    "user.get_name()"
   ]
  },
  {
   "cell_type": "markdown",
   "id": "c8e9e97a-2003-4d42-b73f-f847f90348c6",
   "metadata": {},
   "source": [
    "<h2>Inheritance</h2>"
   ]
  },
  {
   "cell_type": "markdown",
   "id": "2866e40b-a96b-4258-9189-3cfbfa885795",
   "metadata": {},
   "source": [
    "<h4>1. child class with no constructor</h4>"
   ]
  },
  {
   "cell_type": "code",
   "execution_count": 6,
   "id": "d8b28776-1767-4629-a0e6-379fa4a82ddf",
   "metadata": {},
   "outputs": [],
   "source": [
    "# class can be extend by providing the parent class inside the parenthesis\n",
    "class Student(User):\n",
    "    def get_age(self):\n",
    "        return self.age"
   ]
  },
  {
   "cell_type": "code",
   "execution_count": 7,
   "id": "e559d9c0-658f-4955-bae2-477cfd55f20d",
   "metadata": {},
   "outputs": [
    {
     "data": {
      "text/plain": [
       "29"
      ]
     },
     "execution_count": 7,
     "metadata": {},
     "output_type": "execute_result"
    }
   ],
   "source": [
    "student=Student('nuwan',29)\n",
    "student.get_age()"
   ]
  },
  {
   "cell_type": "code",
   "execution_count": 8,
   "id": "375deee4-a1df-4f7f-bf5d-a55b23551c12",
   "metadata": {},
   "outputs": [
    {
     "data": {
      "text/plain": [
       "'nuwan'"
      ]
     },
     "execution_count": 8,
     "metadata": {},
     "output_type": "execute_result"
    }
   ],
   "source": [
    "student=Student('nuwan',29)\n",
    "student.get_name()"
   ]
  },
  {
   "cell_type": "markdown",
   "id": "88fc48d3-03f8-49dd-9abc-49977e1f1375",
   "metadata": {},
   "source": [
    "<h4>2. Child class override the constructor of the parent class</h4>"
   ]
  },
  {
   "cell_type": "code",
   "execution_count": 9,
   "id": "17cb7e25-9c71-4e78-b4ac-c6130f9e1668",
   "metadata": {},
   "outputs": [],
   "source": [
    "class Teacher(User):\n",
    "    # Override the constructor\n",
    "    def __init__(self,name):\n",
    "        self.name=f'Teacher {name}'\n",
    "    def get_name(self):\n",
    "        return self.name"
   ]
  },
  {
   "cell_type": "code",
   "execution_count": 10,
   "id": "d6e2ca83-1bd0-434b-b176-d81a2b06d55c",
   "metadata": {},
   "outputs": [
    {
     "data": {
      "text/plain": [
       "'Teacher john'"
      ]
     },
     "execution_count": 10,
     "metadata": {},
     "output_type": "execute_result"
    }
   ],
   "source": [
    "teacher=Teacher('john')\n",
    "teacher.get_name() # as you can see, name is appended 'Teacher'"
   ]
  },
  {
   "cell_type": "markdown",
   "id": "fdb8a373-8dd5-4995-ada7-ba33871f8b47",
   "metadata": {},
   "source": [
    "<h4>3. Child class calls the constructor of the parent class</h4>"
   ]
  },
  {
   "cell_type": "code",
   "execution_count": 19,
   "id": "d72272db-1293-47c7-8456-4502f6a84f85",
   "metadata": {},
   "outputs": [],
   "source": [
    "# constructor of the parent class can be accessed by calling super()\n",
    "# in following class, parent's constructor is called by super().__init__(...)\n",
    "class Minister(User):\n",
    "    def __init__(self,name,age,birthday):\n",
    "        self.age=age\n",
    "        self.birthday=birthday\n",
    "        super().__init__(name,age)\n",
    "    def get_age(self):\n",
    "        return self.age\n",
    "    def get_birthday(self):\n",
    "        return self.birthday"
   ]
  },
  {
   "cell_type": "code",
   "execution_count": 18,
   "id": "a7743449-f228-45b6-9c0b-1beeb66f53ff",
   "metadata": {},
   "outputs": [
    {
     "data": {
      "text/plain": [
       "'nuwan'"
      ]
     },
     "execution_count": 18,
     "metadata": {},
     "output_type": "execute_result"
    }
   ],
   "source": [
    "minister=Minister('nuwan',22,'1993-04-23')\n",
    "minister.get_name()"
   ]
  },
  {
   "cell_type": "markdown",
   "id": "5526e135-b1ea-48ff-9f86-20440bf59a8e",
   "metadata": {},
   "source": [
    "<h4>4. Constructor Overloading</h4>"
   ]
  },
  {
   "cell_type": "code",
   "execution_count": 20,
   "id": "e64bc268-a10c-4d6e-9cbf-f4af0ab3e02d",
   "metadata": {},
   "outputs": [],
   "source": [
    "# Constructor overloading is not supported in python\n",
    "class Gangster(User):\n",
    "    def __init__(self,name):\n",
    "        self.name=name\n",
    "    def __init__(self,name,age):\n",
    "        self.name=name\n",
    "        self.age=age"
   ]
  },
  {
   "cell_type": "code",
   "execution_count": 21,
   "id": "fb7c4631-b8c0-4ca2-b2f3-55eef80d2342",
   "metadata": {},
   "outputs": [
    {
     "ename": "TypeError",
     "evalue": "Gangster.__init__() missing 1 required positional argument: 'age'",
     "output_type": "error",
     "traceback": [
      "\u001b[0;31m---------------------------------------------------------------------------\u001b[0m",
      "\u001b[0;31mTypeError\u001b[0m                                 Traceback (most recent call last)",
      "Cell \u001b[0;32mIn[21], line 1\u001b[0m\n\u001b[0;32m----> 1\u001b[0m gangster\u001b[38;5;241m=\u001b[39m\u001b[43mGangster\u001b[49m\u001b[43m(\u001b[49m\u001b[38;5;124;43m'\u001b[39;49m\u001b[38;5;124;43mnuwan\u001b[39;49m\u001b[38;5;124;43m'\u001b[39;49m\u001b[43m)\u001b[49m\n\u001b[1;32m      2\u001b[0m gangster\u001b[38;5;241m.\u001b[39mget_name()\n",
      "\u001b[0;31mTypeError\u001b[0m: Gangster.__init__() missing 1 required positional argument: 'age'"
     ]
    }
   ],
   "source": [
    "gangster=Gangster('nuwan')\n",
    "gangster.get_name()"
   ]
  },
  {
   "cell_type": "code",
   "execution_count": 25,
   "id": "af4a6e11-f49d-4ad2-987c-d5e8167b0077",
   "metadata": {},
   "outputs": [],
   "source": [
    "# constructor overload can be obtained by introducing default variables to named arguments\n",
    "class Gangster(User):\n",
    "    def __init__(self,name,age=30):\n",
    "        self.name=name\n",
    "        self.age=age\n",
    "    def get_age(self):\n",
    "        return self.age"
   ]
  },
  {
   "cell_type": "code",
   "execution_count": 26,
   "id": "7a85b786-dd2b-4a18-8ad6-59b63a4a00fd",
   "metadata": {},
   "outputs": [
    {
     "data": {
      "text/plain": [
       "30"
      ]
     },
     "execution_count": 26,
     "metadata": {},
     "output_type": "execute_result"
    }
   ],
   "source": [
    "gangster=Gangster('nuwan')\n",
    "gangster.get_age()"
   ]
  },
  {
   "cell_type": "code",
   "execution_count": 27,
   "id": "fa72b0b9-ed57-4297-9d6e-481fc902b06d",
   "metadata": {},
   "outputs": [
    {
     "data": {
      "text/plain": [
       "21"
      ]
     },
     "execution_count": 27,
     "metadata": {},
     "output_type": "execute_result"
    }
   ],
   "source": [
    "super_gangster=Gangster('nuwan',21)\n",
    "super_gangster.get_age()"
   ]
  },
  {
   "cell_type": "code",
   "execution_count": null,
   "id": "11ee0d5c-505b-41c8-b032-bac9d9cf43ff",
   "metadata": {},
   "outputs": [],
   "source": []
  }
 ],
 "metadata": {
  "kernelspec": {
   "display_name": "Python 3 (ipykernel)",
   "language": "python",
   "name": "python3"
  },
  "language_info": {
   "codemirror_mode": {
    "name": "ipython",
    "version": 3
   },
   "file_extension": ".py",
   "mimetype": "text/x-python",
   "name": "python",
   "nbconvert_exporter": "python",
   "pygments_lexer": "ipython3",
   "version": "3.11.8"
  }
 },
 "nbformat": 4,
 "nbformat_minor": 5
}
