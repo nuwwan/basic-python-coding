{
 "cells": [
  {
   "cell_type": "markdown",
   "id": "c4d5bcef-1e47-4371-bfa6-aa22a9131548",
   "metadata": {},
   "source": [
    "This Notebook has codes for \n",
    "- Iterators\n",
    "- Genarators\n",
    "- Decorators"
   ]
  },
  {
   "cell_type": "code",
   "execution_count": 8,
   "id": "560ddd08-f65f-4ed8-8053-4a6e7dbdb484",
   "metadata": {},
   "outputs": [],
   "source": [
    "# Iterator\n",
    "class Encounter:\n",
    "    def __init__(self,start,end):\n",
    "        self.start=start\n",
    "        self.end=end\n",
    "    def __iter__(self):\n",
    "        return self\n",
    "    def __next__(self):\n",
    "        if(self.start>self.end):\n",
    "            raise StopIteration\n",
    "        else:\n",
    "            self.start=self.start+1\n",
    "            return self.start-1"
   ]
  },
  {
   "cell_type": "code",
   "execution_count": 9,
   "id": "80dd0efa-6011-4f51-b528-a8a58db42444",
   "metadata": {},
   "outputs": [
    {
     "name": "stdout",
     "output_type": "stream",
     "text": [
      "1\n",
      "2\n",
      "3\n",
      "4\n",
      "5\n"
     ]
    }
   ],
   "source": [
    "counter=Encounter(1,5)\n",
    "for i in counter:\n",
    "    print(i)\n"
   ]
  },
  {
   "cell_type": "code",
   "execution_count": 10,
   "id": "e1533531-fe32-4302-ba53-94294250133f",
   "metadata": {},
   "outputs": [
    {
     "name": "stdout",
     "output_type": "stream",
     "text": [
      "a\n",
      "b\n",
      "c\n"
     ]
    }
   ],
   "source": [
    "# Generator\n",
    "def my_generator():\n",
    "    yield 'a'\n",
    "    yield 'b'\n",
    "    yield 'c'\n",
    "\n",
    "for i in my_generator():\n",
    "    print(i)"
   ]
  },
  {
   "cell_type": "code",
   "execution_count": 14,
   "id": "f1e99e75-e75b-4a4f-b657-4ca7ef92e1bd",
   "metadata": {},
   "outputs": [
    {
     "name": "stdout",
     "output_type": "stream",
     "text": [
      "before function\n",
      "sum=5\n",
      "after function\n",
      "test 1\n",
      "nuwan\n"
     ]
    }
   ],
   "source": [
    "# decorators\n",
    "def my_decorator(func):\n",
    "    def wrapper(*args,**kwargs):\n",
    "        print(\"before function\")\n",
    "        result=func(*args,**kwargs)\n",
    "        print(\"after function\")\n",
    "        return result\n",
    "    return wrapper\n",
    "\n",
    "def another_decorator(func):\n",
    "    def wrapper():\n",
    "        print(\"test 1\")\n",
    "        func()\n",
    "    return wrapper\n",
    "\n",
    "@my_decorator\n",
    "def add(a,b):\n",
    "    print(f\"sum={a+b}\")\n",
    "add(2,3)\n",
    "\n",
    "@another_decorator\n",
    "def test():\n",
    "    print(\"nuwan\")\n",
    "test()"
   ]
  },
  {
   "cell_type": "code",
   "execution_count": null,
   "id": "6d00260c-0ab0-47c5-ba83-0058a194748a",
   "metadata": {},
   "outputs": [],
   "source": []
  }
 ],
 "metadata": {
  "kernelspec": {
   "display_name": "Python 3 (ipykernel)",
   "language": "python",
   "name": "python3"
  },
  "language_info": {
   "codemirror_mode": {
    "name": "ipython",
    "version": 3
   },
   "file_extension": ".py",
   "mimetype": "text/x-python",
   "name": "python",
   "nbconvert_exporter": "python",
   "pygments_lexer": "ipython3",
   "version": "3.11.8"
  }
 },
 "nbformat": 4,
 "nbformat_minor": 5
}
