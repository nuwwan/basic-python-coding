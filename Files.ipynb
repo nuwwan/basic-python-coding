{
 "cells": [
  {
   "cell_type": "markdown",
   "id": "885ffb05-85dd-4d17-9201-43f6adc6ed28",
   "metadata": {},
   "source": [
    "<h1>Read Files</h1>"
   ]
  },
  {
   "cell_type": "code",
   "execution_count": 2,
   "id": "32711757-bae1-42f2-9ea3-75295cf0fe70",
   "metadata": {},
   "outputs": [
    {
     "name": "stdout",
     "output_type": "stream",
     "text": [
      "['Hello.\\n', 'My name is Nuwan.\\n', 'Have a great day!']\n"
     ]
    }
   ],
   "source": [
    "# read a file in read mode\n",
    "# readlines() reads whole file and returns lines array\n",
    "file=open('sample.txt','r')\n",
    "print(file.readlines())\n",
    "file.close()"
   ]
  },
  {
   "cell_type": "code",
   "execution_count": 4,
   "id": "22cee123-ed72-4a65-a93d-d710004f960d",
   "metadata": {},
   "outputs": [
    {
     "name": "stdout",
     "output_type": "stream",
     "text": [
      "Hello.\n",
      "\n",
      "My name is Nuwan.\n",
      "\n",
      "Have a great day!\n"
     ]
    }
   ],
   "source": [
    "# read a file in read mode\n",
    "# readline will read one line at a time\n",
    "file=open('sample.txt','r')\n",
    "print(file.readline())\n",
    "print(file.readline())\n",
    "print(file.readline())\n",
    "file.close()"
   ]
  },
  {
   "cell_type": "markdown",
   "id": "dd4243cd-3211-47cd-9c93-23ef5ce679b7",
   "metadata": {},
   "source": [
    "<h2>Write to File</h2>"
   ]
  },
  {
   "cell_type": "code",
   "execution_count": 5,
   "id": "91d0bcb9-c57a-4a47-b13a-41db5d7624fc",
   "metadata": {},
   "outputs": [],
   "source": [
    "write_lines=['I go paris. \\n','I go Milan. \\n', 'I go NYC. \\n']\n",
    "# open file in write mode\n",
    "# writelines() will write a list of strings to a file(NOTE: overwrite the file)\n",
    "file=open('sample.txt','w')\n",
    "file.writelines(write_lines)\n",
    "file.close()"
   ]
  },
  {
   "cell_type": "code",
   "execution_count": 17,
   "id": "b11cc462-7081-4faa-8ec4-bc43c1a3be7b",
   "metadata": {},
   "outputs": [],
   "source": [
    "write_str='I write something'\n",
    "\n",
    "# open file in write mode\n",
    "# write() simply write a single line to a file\n",
    "file=open('sample.txt \\n','w')\n",
    "file.write(write_str)\n",
    "file.close()"
   ]
  },
  {
   "cell_type": "markdown",
   "id": "5c2ec156-1470-4a1b-9b7c-653c8d5ceea7",
   "metadata": {},
   "source": [
    "<h2>Append to a File</h2>"
   ]
  },
  {
   "cell_type": "code",
   "execution_count": 16,
   "id": "459b9e6b-15a2-4c35-bd28-89dad08befed",
   "metadata": {},
   "outputs": [],
   "source": [
    "# to append text, the file can be open in append mode. (a mode)\n",
    "with open('sample.txt','a') as file:\n",
    "    file.write(\"This is appended text\")\n",
    "file.close()"
   ]
  },
  {
   "cell_type": "code",
   "execution_count": null,
   "id": "5aae52e1-9fa3-4902-9f01-b38e91cf8913",
   "metadata": {},
   "outputs": [],
   "source": []
  }
 ],
 "metadata": {
  "kernelspec": {
   "display_name": "Python 3 (ipykernel)",
   "language": "python",
   "name": "python3"
  },
  "language_info": {
   "codemirror_mode": {
    "name": "ipython",
    "version": 3
   },
   "file_extension": ".py",
   "mimetype": "text/x-python",
   "name": "python",
   "nbconvert_exporter": "python",
   "pygments_lexer": "ipython3",
   "version": "3.11.8"
  }
 },
 "nbformat": 4,
 "nbformat_minor": 5
}
