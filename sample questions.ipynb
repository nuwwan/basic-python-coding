{
 "cells": [
  {
   "cell_type": "markdown",
   "id": "afc72613-00fe-4691-bdd9-7305372f0301",
   "metadata": {},
   "source": [
    "<h4>Get Fibonaci number</h4>"
   ]
  },
  {
   "cell_type": "code",
   "execution_count": 1,
   "id": "47c93fe9-45f1-4daf-bd4d-09965788917d",
   "metadata": {},
   "outputs": [],
   "source": [
    "def fib(n):\n",
    "    if n==0:return 0\n",
    "    if n==1:return 1\n",
    "    return fib(n-1)+fib(n-2)"
   ]
  },
  {
   "cell_type": "code",
   "execution_count": 2,
   "id": "159ce092-0884-4744-a3d1-f3547d5564a8",
   "metadata": {},
   "outputs": [
    {
     "data": {
      "text/plain": [
       "2"
      ]
     },
     "execution_count": 2,
     "metadata": {},
     "output_type": "execute_result"
    }
   ],
   "source": [
    "fib(3)"
   ]
  },
  {
   "cell_type": "markdown",
   "id": "a47f83c4-00af-4c94-ad96-00e495314c0b",
   "metadata": {},
   "source": [
    "<h4>Get longest palindrome number</h4>"
   ]
  },
  {
   "cell_type": "code",
   "execution_count": 6,
   "id": "dbbe0356-5bf1-4b35-9762-0ea6986ba67a",
   "metadata": {},
   "outputs": [],
   "source": [
    "def get_longest_palindrome(number_arr):\n",
    "    palindromes=[x for x in number_arr if x==x[::-1]]\n",
    "    return max(palindromes,key=len)"
   ]
  },
  {
   "cell_type": "code",
   "execution_count": 7,
   "id": "545275a8-404a-4e54-b950-e89472069e09",
   "metadata": {},
   "outputs": [
    {
     "data": {
      "text/plain": [
       "'123321'"
      ]
     },
     "execution_count": 7,
     "metadata": {},
     "output_type": "execute_result"
    }
   ],
   "source": [
    "palindromes=['121','1111','12341','123321']\n",
    "get_longest_palindrome(palindromes)"
   ]
  },
  {
   "cell_type": "markdown",
   "id": "bf061409-16ce-45b9-ad56-46874e2611d9",
   "metadata": {},
   "source": [
    "<h4>Sliding window</h4>"
   ]
  },
  {
   "cell_type": "code",
   "execution_count": 16,
   "id": "4d93e3f4-7ae7-4682-9bca-db6d0f5e2117",
   "metadata": {},
   "outputs": [],
   "source": [
    "# Get the max of each window and return as array\n",
    "# This method can be simplified more, but this is only for demo purpose\n",
    "def get_window_sum(nums, window_size):\n",
    "    sum_arr=[]\n",
    "    for i in range(len(nums)-window_size+1):\n",
    "        local_sum=0\n",
    "        for j in range(i,i+window_size):\n",
    "            local_sum+=nums[j]\n",
    "        sum_arr.append(local_sum)\n",
    "    return sum_arr"
   ]
  },
  {
   "cell_type": "code",
   "execution_count": 19,
   "id": "0eb87f83-152d-42c8-b49d-48ce66e283b9",
   "metadata": {},
   "outputs": [],
   "source": [
    "# Using  a while loop\n",
    "def get_window_sum_1(nums,window_size):\n",
    "    w_start_idx=0\n",
    "    w_end_idx=window_size\n",
    "    sum_arr=[]\n",
    "    while w_end_idx<len(nums):\n",
    "        local_sum=0\n",
    "        for i in range(w_start_idx,w_end_idx):\n",
    "            local_sum+=nums[i]\n",
    "        sum_arr.append(local_sum)\n",
    "        w_start_idx+=1\n",
    "        w_end_idx+=1\n",
    "    return sum_arr"
   ]
  },
  {
   "cell_type": "code",
   "execution_count": 20,
   "id": "22acbc92-ef2d-462c-928f-3271570c9cd0",
   "metadata": {},
   "outputs": [
    {
     "data": {
      "text/plain": [
       "[21, 15, 18, 14, 12, 8, 6, 11, 16, 18, 17, 18, 19, 15, 10]"
      ]
     },
     "execution_count": 20,
     "metadata": {},
     "output_type": "execute_result"
    }
   ],
   "source": [
    "nums=[9,4,8,3,7,4,1,3,2,6,8,4,5,9,5,1,4]\n",
    "window_size=3\n",
    "get_window_sum(nums,window_size)"
   ]
  },
  {
   "cell_type": "code",
   "execution_count": 21,
   "id": "a0ab8c1d-e400-427e-8f2b-46504942058d",
   "metadata": {},
   "outputs": [
    {
     "data": {
      "text/plain": [
       "[21, 15, 18, 14, 12, 8, 6, 11, 16, 18, 17, 18, 19, 15, 10]"
      ]
     },
     "execution_count": 21,
     "metadata": {},
     "output_type": "execute_result"
    }
   ],
   "source": [
    "get_window_sum(nums,window_size)"
   ]
  },
  {
   "cell_type": "code",
   "execution_count": 37,
   "id": "d8f150ce-c6fb-402d-ab15-db0ad9e211e9",
   "metadata": {},
   "outputs": [],
   "source": [
    "def my_deco(func):\n",
    "    def inner(*args,**kwargs):\n",
    "        print('before function')\n",
    "        func(*args)\n",
    "        print('after function')\n",
    "    return inner"
   ]
  },
  {
   "cell_type": "code",
   "execution_count": 40,
   "id": "d8bd2803-80a6-4458-a353-a6d364ab4a63",
   "metadata": {},
   "outputs": [],
   "source": [
    "@my_deco\n",
    "def add(a,b):\n",
    "    print( a+b)"
   ]
  },
  {
   "cell_type": "code",
   "execution_count": 41,
   "id": "2eafc40c-38e3-4fd2-8e7f-13075ece99ed",
   "metadata": {},
   "outputs": [
    {
     "name": "stdout",
     "output_type": "stream",
     "text": [
      "before function\n",
      "5\n",
      "after function\n"
     ]
    }
   ],
   "source": [
    "add(2,3)"
   ]
  },
  {
   "cell_type": "code",
   "execution_count": null,
   "id": "bb623526-c945-4042-b49f-3f59dec907ae",
   "metadata": {},
   "outputs": [],
   "source": []
  }
 ],
 "metadata": {
  "kernelspec": {
   "display_name": "Python 3 (ipykernel)",
   "language": "python",
   "name": "python3"
  },
  "language_info": {
   "codemirror_mode": {
    "name": "ipython",
    "version": 3
   },
   "file_extension": ".py",
   "mimetype": "text/x-python",
   "name": "python",
   "nbconvert_exporter": "python",
   "pygments_lexer": "ipython3",
   "version": "3.11.8"
  }
 },
 "nbformat": 4,
 "nbformat_minor": 5
}
