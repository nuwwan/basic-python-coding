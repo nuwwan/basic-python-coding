{
 "cells": [
  {
   "cell_type": "markdown",
   "id": "8a561721-d3c1-44cd-accf-708d619529e4",
   "metadata": {},
   "source": [
    "<h2>List and sets</h2>"
   ]
  },
  {
   "cell_type": "markdown",
   "id": "859bcb7c-c381-453b-af46-b5cdd0a402de",
   "metadata": {},
   "source": [
    "Most of the  iterarable like strings, lists, sets can be constructuted using the name() of it."
   ]
  },
  {
   "cell_type": "code",
   "execution_count": 3,
   "id": "73786cd4-42df-46e4-8ffd-280a498abcdb",
   "metadata": {},
   "outputs": [
    {
     "name": "stdout",
     "output_type": "stream",
     "text": [
      "['n', 'u', 'w', 'a', 'n']\n",
      "{'u', 'a', 'n', 'w'}\n"
     ]
    }
   ],
   "source": [
    "print(list(\"nuwan\"))\n",
    "print(set(['n','u','w','a','n']))"
   ]
  },
  {
   "cell_type": "markdown",
   "id": "8ec87944-1d7a-4c3f-a181-638d3a590788",
   "metadata": {},
   "source": [
    "Set operations"
   ]
  },
  {
   "cell_type": "code",
   "execution_count": 6,
   "id": "b740e742-2aae-4e57-8f54-90dec6657356",
   "metadata": {},
   "outputs": [],
   "source": [
    "a=set((1,2,3,4))\n",
    "b=set({3,4,5,6})"
   ]
  },
  {
   "cell_type": "code",
   "execution_count": 7,
   "id": "87267a29-a180-4a1f-8977-9140587e6613",
   "metadata": {},
   "outputs": [
    {
     "data": {
      "text/plain": [
       "{1, 2, 3, 4, 5, 6}"
      ]
     },
     "execution_count": 7,
     "metadata": {},
     "output_type": "execute_result"
    }
   ],
   "source": [
    "# Union\n",
    "a|b"
   ]
  },
  {
   "cell_type": "code",
   "execution_count": 9,
   "id": "569a748d-a299-4b0d-be91-9fe8bb210026",
   "metadata": {},
   "outputs": [
    {
     "data": {
      "text/plain": [
       "{3, 4}"
      ]
     },
     "execution_count": 9,
     "metadata": {},
     "output_type": "execute_result"
    }
   ],
   "source": [
    "# Intersection\n",
    "a&b"
   ]
  },
  {
   "cell_type": "code",
   "execution_count": 11,
   "id": "81569e5d-f9b4-4b4e-8c84-9f67b8a79c93",
   "metadata": {},
   "outputs": [
    {
     "data": {
      "text/plain": [
       "{1, 2}"
      ]
     },
     "execution_count": 11,
     "metadata": {},
     "output_type": "execute_result"
    }
   ],
   "source": [
    "# A - A & B\n",
    "a-(a&b)"
   ]
  },
  {
   "cell_type": "markdown",
   "id": "e5350453-8d5c-43be-b5e3-f7a2e3b28456",
   "metadata": {},
   "source": [
    "List combine"
   ]
  },
  {
   "cell_type": "code",
   "execution_count": 33,
   "id": "b96ebfaf-1e52-40cf-8c67-62f9b6b9bced",
   "metadata": {},
   "outputs": [],
   "source": [
    "a,b=[1,2,3,4],[7,8,9]"
   ]
  },
  {
   "cell_type": "code",
   "execution_count": 34,
   "id": "eea85103-906e-42a9-9261-b659fc9a1c66",
   "metadata": {},
   "outputs": [
    {
     "data": {
      "text/plain": [
       "[1, 2, 3, 4, 7, 8, 9]"
      ]
     },
     "execution_count": 34,
     "metadata": {},
     "output_type": "execute_result"
    }
   ],
   "source": [
    "a+b"
   ]
  },
  {
   "cell_type": "code",
   "execution_count": 36,
   "id": "14f43aba-eba2-4b7c-8884-ebd3ad93c074",
   "metadata": {},
   "outputs": [
    {
     "data": {
      "text/plain": [
       "[1, 2, 3, 4, 7, 8, 9, 7, 8, 9]"
      ]
     },
     "execution_count": 36,
     "metadata": {},
     "output_type": "execute_result"
    }
   ],
   "source": [
    "a.extend(b)\n",
    "a"
   ]
  },
  {
   "cell_type": "markdown",
   "id": "f063357f-fe5d-4cbd-97e2-d3e453ecdc70",
   "metadata": {},
   "source": [
    "<h4>Add items to lists</h4>"
   ]
  },
  {
   "cell_type": "code",
   "execution_count": 43,
   "id": "496f3ab9-baef-4ce0-91f9-9af399002789",
   "metadata": {},
   "outputs": [
    {
     "name": "stdout",
     "output_type": "stream",
     "text": [
      "[1, 2, 3, 4, 11]\n",
      "{1, 2, 3, 4}\n"
     ]
    }
   ],
   "source": [
    "c=[1,2,3,4]\n",
    "c.append(11)\n",
    "print(c)\n",
    "s=set({1,2,3})\n",
    "s.add(4)\n",
    "print(s)"
   ]
  },
  {
   "cell_type": "code",
   "execution_count": 41,
   "id": "9cf284fd-79bc-4ed7-bf98-491303f7f2b4",
   "metadata": {},
   "outputs": [
    {
     "data": {
      "text/plain": [
       "[1, 25, 25, 2, 3, 4, 11]"
      ]
     },
     "execution_count": 41,
     "metadata": {},
     "output_type": "execute_result"
    }
   ],
   "source": [
    "c.insert(1,25)\n",
    "c"
   ]
  },
  {
   "cell_type": "markdown",
   "id": "3df85572-0d72-47cd-a69c-9a0c2cb9675b",
   "metadata": {},
   "source": [
    "<h4>Remove Items</h4>"
   ]
  },
  {
   "cell_type": "code",
   "execution_count": 46,
   "id": "06282bb5-a63d-4466-8f8d-e582c98c417a",
   "metadata": {},
   "outputs": [
    {
     "data": {
      "text/plain": [
       "[12, 13, 14]"
      ]
     },
     "execution_count": 46,
     "metadata": {},
     "output_type": "execute_result"
    }
   ],
   "source": [
    "a=[11,12,13,14] # remove a Value\n",
    "a.remove(11) # Not return anything but change list in place\n",
    "a"
   ]
  },
  {
   "cell_type": "code",
   "execution_count": 47,
   "id": "c0f1f64e-a29e-406e-b572-08580678d877",
   "metadata": {},
   "outputs": [
    {
     "data": {
      "text/plain": [
       "12"
      ]
     },
     "execution_count": 47,
     "metadata": {},
     "output_type": "execute_result"
    }
   ],
   "source": [
    "a=[11,12,13,14] # POP the value specefied by index\n",
    "a.pop(1) # return the poped value and CHANGE the list"
   ]
  },
  {
   "cell_type": "code",
   "execution_count": 48,
   "id": "671a1093-d5c6-4e17-a638-8f2a8cd9b807",
   "metadata": {},
   "outputs": [
    {
     "data": {
      "text/plain": [
       "[11, 13, 14]"
      ]
     },
     "execution_count": 48,
     "metadata": {},
     "output_type": "execute_result"
    }
   ],
   "source": [
    "a"
   ]
  },
  {
   "cell_type": "markdown",
   "id": "eb4ce04b-3ab6-460e-8838-fd61545d4e78",
   "metadata": {},
   "source": [
    "<h2>Iterate over Dictionary</h2>"
   ]
  },
  {
   "cell_type": "code",
   "execution_count": 12,
   "id": "bfe139f5-8f46-4ce6-acef-28998de9905e",
   "metadata": {},
   "outputs": [
    {
     "name": "stdout",
     "output_type": "stream",
     "text": [
      "key=name value=nuwan\n",
      "key=age value=12\n",
      "key=country value=Sri Lanka\n"
     ]
    }
   ],
   "source": [
    "# 1. Using items()\n",
    "dict1={'name':'nuwan','age':12,'country':'Sri Lanka'}\n",
    "for k,v in dict1.items():\n",
    "    print(f'key={k} value={v}')"
   ]
  },
  {
   "cell_type": "code",
   "execution_count": 14,
   "id": "11d45be5-c513-4138-91d8-15a4540fe1b2",
   "metadata": {},
   "outputs": [
    {
     "name": "stdout",
     "output_type": "stream",
     "text": [
      "key=name value=nuwan\n",
      "key=age value=12\n",
      "key=country value=Sri Lanka\n"
     ]
    }
   ],
   "source": [
    "# 2. Using key\n",
    "for k in dict1:\n",
    "    print(f'key={k} value={dict1[k]}')"
   ]
  },
  {
   "cell_type": "markdown",
   "id": "c0c17e70-2b96-49dd-822c-bf26a46878de",
   "metadata": {},
   "source": [
    "<h2>Itertools</h2>"
   ]
  },
  {
   "cell_type": "code",
   "execution_count": 24,
   "id": "f778074a-2b1e-4c40-8eac-c4af9c0a1051",
   "metadata": {},
   "outputs": [
    {
     "data": {
      "text/plain": [
       "<itertools.permutations at 0x118c96430>"
      ]
     },
     "execution_count": 24,
     "metadata": {},
     "output_type": "execute_result"
    }
   ],
   "source": [
    "from itertools import permutations,combinations,product\n",
    "# 1. Permutations\n",
    "permutations('nuwan',2)  # itertools --> list"
   ]
  },
  {
   "cell_type": "code",
   "execution_count": 29,
   "id": "3aa3aba6-77fc-4f76-bdba-fdbc2a871b4c",
   "metadata": {},
   "outputs": [
    {
     "data": {
      "text/plain": [
       "[('n', 'u'),\n",
       " ('n', 'w'),\n",
       " ('n', 'a'),\n",
       " ('n', 'n'),\n",
       " ('u', 'n'),\n",
       " ('u', 'w'),\n",
       " ('u', 'a'),\n",
       " ('u', 'n'),\n",
       " ('w', 'n'),\n",
       " ('w', 'u'),\n",
       " ('w', 'a'),\n",
       " ('w', 'n'),\n",
       " ('a', 'n'),\n",
       " ('a', 'u'),\n",
       " ('a', 'w'),\n",
       " ('a', 'n'),\n",
       " ('n', 'n'),\n",
       " ('n', 'u'),\n",
       " ('n', 'w'),\n",
       " ('n', 'a')]"
      ]
     },
     "execution_count": 29,
     "metadata": {},
     "output_type": "execute_result"
    }
   ],
   "source": [
    "list(permutations('nuwan',2))"
   ]
  },
  {
   "cell_type": "code",
   "execution_count": 31,
   "id": "539d28d4-0552-4b2b-a6dc-6351ea7f5926",
   "metadata": {},
   "outputs": [
    {
     "data": {
      "text/plain": [
       "[('n', 'u'),\n",
       " ('n', 'w'),\n",
       " ('n', 'a'),\n",
       " ('n', 'n'),\n",
       " ('u', 'w'),\n",
       " ('u', 'a'),\n",
       " ('u', 'n'),\n",
       " ('w', 'a'),\n",
       " ('w', 'n'),\n",
       " ('a', 'n')]"
      ]
     },
     "execution_count": 31,
     "metadata": {},
     "output_type": "execute_result"
    }
   ],
   "source": [
    "# 2. Combinations\n",
    "list(combinations('nuwan',2))"
   ]
  },
  {
   "cell_type": "code",
   "execution_count": 32,
   "id": "6c7a0f7c-f253-4c31-8663-0010e86d4aa6",
   "metadata": {},
   "outputs": [
    {
     "data": {
      "text/plain": [
       "[('1', 'a'), ('1', 'b'), ('2', 'a'), ('2', 'b'), ('3', 'a'), ('3', 'b')]"
      ]
     },
     "execution_count": 32,
     "metadata": {},
     "output_type": "execute_result"
    }
   ],
   "source": [
    "# 3. Product\n",
    "list(product('123','ab'))"
   ]
  },
  {
   "cell_type": "markdown",
   "id": "89068c34-16ce-4557-bed2-6a5d876fbcff",
   "metadata": {},
   "source": [
    "<h2>Collections</h2>"
   ]
  },
  {
   "cell_type": "code",
   "execution_count": 20,
   "id": "6b66fd13-b82b-4a61-ad30-5b1342764c2f",
   "metadata": {},
   "outputs": [
    {
     "data": {
      "text/plain": [
       "Counter({'n': 2, 'u': 1, 'w': 1, 'a': 1})"
      ]
     },
     "execution_count": 20,
     "metadata": {},
     "output_type": "execute_result"
    }
   ],
   "source": [
    "# Counter\n",
    "from collections import Counter\n",
    "Counter('nuwan')"
   ]
  },
  {
   "cell_type": "code",
   "execution_count": 22,
   "id": "5a63452e-018a-4c99-9c80-8bcbda977cd4",
   "metadata": {},
   "outputs": [
    {
     "name": "stdout",
     "output_type": "stream",
     "text": [
      "key=1 value=2\n",
      "key=2 value=3\n",
      "key=3 value=1\n",
      "key=4 value=1\n"
     ]
    }
   ],
   "source": [
    "for k,v in Counter((1,2,2,1,3,4,2,)).items():\n",
    "    print(f'key={k} value={v}')"
   ]
  },
  {
   "cell_type": "code",
   "execution_count": null,
   "id": "8e40d6da-68f7-498d-a98d-25c7f07b552b",
   "metadata": {},
   "outputs": [],
   "source": []
  }
 ],
 "metadata": {
  "kernelspec": {
   "display_name": "Python 3 (ipykernel)",
   "language": "python",
   "name": "python3"
  },
  "language_info": {
   "codemirror_mode": {
    "name": "ipython",
    "version": 3
   },
   "file_extension": ".py",
   "mimetype": "text/x-python",
   "name": "python",
   "nbconvert_exporter": "python",
   "pygments_lexer": "ipython3",
   "version": "3.11.8"
  }
 },
 "nbformat": 4,
 "nbformat_minor": 5
}
